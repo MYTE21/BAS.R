{
 "cells": [
  {
   "cell_type": "code",
   "execution_count": 1,
   "outputs": [
    {
     "name": "stdout",
     "output_type": "stream",
     "text": [
      "Requirement already satisfied: bnunicodenormalizer in c:\\users\\user\\.conda\\envs\\dlsr\\lib\\site-packages (0.0.19)\n"
     ]
    }
   ],
   "source": [
    "# install bnunicodenormalizer\n",
    "!pip install bnunicodenormalizer"
   ],
   "metadata": {
    "collapsed": false,
    "pycharm": {
     "name": "#%%\n"
    }
   }
  },
  {
   "cell_type": "markdown",
   "source": [
    "### imports necessaries"
   ],
   "metadata": {
    "collapsed": false,
    "pycharm": {
     "name": "#%% md\n"
    }
   }
  },
  {
   "cell_type": "code",
   "execution_count": 6,
   "outputs": [],
   "source": [
    "import pandas as pd\n",
    "from tqdm.auto import tqdm  # for progress bar for iterative elements"
   ],
   "metadata": {
    "collapsed": false,
    "pycharm": {
     "name": "#%%\n"
    }
   }
  },
  {
   "cell_type": "markdown",
   "source": [
    "### Read the data and find unique unicodes"
   ],
   "metadata": {
    "collapsed": false,
    "pycharm": {
     "name": "#%% md\n"
    }
   }
  },
  {
   "cell_type": "code",
   "execution_count": 7,
   "outputs": [],
   "source": [
    "# load train and validation data [n.b. csv files]\n",
    "train_df = pd.read_csv('../data/given/train.csv')\n",
    "train_df = train_df[['sentence']]\n",
    "\n",
    "val_df = pd.read_csv('../data/given/validation.csv')\n",
    "val_df = val_df[['sentence']]"
   ],
   "metadata": {
    "collapsed": false,
    "pycharm": {
     "name": "#%%\n"
    }
   }
  },
  {
   "cell_type": "code",
   "execution_count": 8,
   "outputs": [
    {
     "name": "stdout",
     "output_type": "stream",
     "text": [
      "Number of total sentences:  214697\n"
     ]
    }
   ],
   "source": [
    "sens = train_df['sentence'].tolist() + val_df['sentence'].tolist()\n",
    "print('Number of total sentences: ', len(sens))"
   ],
   "metadata": {
    "collapsed": false,
    "pycharm": {
     "name": "#%%\n"
    }
   }
  },
  {
   "cell_type": "code",
   "execution_count": 21,
   "outputs": [
    {
     "data": {
      "text/plain": "  0%|          | 0/214697 [00:00<?, ?it/s]",
      "application/vnd.jupyter.widget-view+json": {
       "version_major": 2,
       "version_minor": 0,
       "model_id": "ed848e279f94489487608a45388ea3fb"
      }
     },
     "metadata": {},
     "output_type": "display_data"
    },
    {
     "name": "stdout",
     "output_type": "stream",
     "text": [
      "Non normalized vocab(unicodes): [total: 90]\n",
      "\n",
      "\n",
      "' ', '!', ''', ',', '-', '.', '/', ':', ';', '=', '?', 'A', 'B', 'V', '©', '।', '॥', 'ঁ', 'ং', 'ঃ', \n",
      "\n",
      "'অ', 'আ', 'ই', 'ঈ', 'উ', 'ঊ', 'ঋ', 'এ', 'ঐ', 'ও', 'ঔ', 'ক', 'খ', 'গ', 'ঘ', 'ঙ', 'চ', 'ছ', 'জ', 'ঝ', \n",
      "\n",
      "'ঞ', 'ট', 'ঠ', 'ড', 'ঢ', 'ণ', 'ত', 'থ', 'দ', 'ধ', 'ন', 'প', 'ফ', 'ব', 'ভ', 'ম', 'য', 'র', 'ল', 'শ', \n",
      "\n",
      "'ষ', 'স', 'হ', '়', 'া', 'ি', 'ী', 'ু', 'ূ', 'ৃ', 'ে', 'ৈ', 'ো', 'ৌ', '্', 'ৎ', 'ড়', 'ঢ়', 'য়', 'ৰ', \n",
      "\n",
      "'৵', '৷', '–', '—', '‘', '’', '‚', '“', '”', '…', "
     ]
    }
   ],
   "source": [
    "# Non normalized vocabularies (unicodes)\n",
    "vocab = []\n",
    "\n",
    "for sen in tqdm(sens):\n",
    "    sen = sen.replace('\"', '')\n",
    "    for c in sen:\n",
    "        if c not in vocab:\n",
    "            vocab.append(c)\n",
    "\n",
    "non_norm_vocab = sorted(vocab)\n",
    "\n",
    "print(\"Non normalized vocab(unicodes): [total: {}]\".format(len(non_norm_vocab)))\n",
    "for index, vocab in enumerate(non_norm_vocab):\n",
    "    if not index % 20: print('\\n')\n",
    "    print(\"'{}'\".format(vocab), end=', ')"
   ],
   "metadata": {
    "collapsed": false,
    "pycharm": {
     "name": "#%%\n"
    }
   }
  },
  {
   "cell_type": "code",
   "execution_count": null,
   "outputs": [],
   "source": [],
   "metadata": {
    "collapsed": false,
    "pycharm": {
     "name": "#%%\n"
    }
   }
  }
 ],
 "metadata": {
  "kernelspec": {
   "display_name": "Python 3",
   "language": "python",
   "name": "python3"
  },
  "language_info": {
   "codemirror_mode": {
    "name": "ipython",
    "version": 2
   },
   "file_extension": ".py",
   "mimetype": "text/x-python",
   "name": "python",
   "nbconvert_exporter": "python",
   "pygments_lexer": "ipython2",
   "version": "2.7.6"
  }
 },
 "nbformat": 4,
 "nbformat_minor": 0
}